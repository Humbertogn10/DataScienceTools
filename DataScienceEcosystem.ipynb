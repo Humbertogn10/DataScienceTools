{
 "cells": [
  {
   "cell_type": "markdown",
   "id": "eff3b755-43bc-4622-be1c-2edab956dc6a",
   "metadata": {},
   "source": [
    "# Data Science Tools and Ecosystem "
   ]
  },
  {
   "cell_type": "markdown",
   "id": "405ff4e7-c404-47e3-8082-02028b5b54a9",
   "metadata": {
    "tags": []
   },
   "source": [
    "In this notebook, Data Science Tools and Ecosystem are sumarized"
   ]
  },
  {
   "cell_type": "markdown",
   "id": "017c37d3",
   "metadata": {},
   "source": [
    "**Objectives:**\n",
    "- List popular languages for Data Science\n",
    "- Data Science libraries\n",
    "- Data Science Tools"
   ]
  },
  {
   "cell_type": "markdown",
   "id": "090592f8-e4b9-4938-bf44-b80e20b6525b",
   "metadata": {},
   "source": [
    "Some of the popular languages that Data Scientists use are:"
   ]
  },
  {
   "cell_type": "markdown",
   "id": "e1c30e84-2485-4c6a-bfed-7973719070d1",
   "metadata": {},
   "source": [
    "- R\n",
    "- Python\n",
    "- SQL"
   ]
  },
  {
   "cell_type": "markdown",
   "id": "d61dab0d-ee78-483e-a2e8-9f953c997a76",
   "metadata": {},
   "source": [
    "Some of the commonly used libraries used by Data Scientist include:"
   ]
  },
  {
   "cell_type": "markdown",
   "id": "a972412e-e5b7-4096-8c32-0447596c086f",
   "metadata": {},
   "source": [
    "- Pandas\n",
    "- NumPy\n",
    "- Plotly"
   ]
  },
  {
   "cell_type": "markdown",
   "id": "2fa70da3-40e3-4b56-8d04-38f71bedf3b7",
   "metadata": {},
   "source": [
    "| Data Sciente Tools | \n",
    "|:------------------:|\n",
    "|  Pandas   |  \n",
    "|  Scrapy   | \n",
    "|  Hadoop   | "
   ]
  },
  {
   "cell_type": "markdown",
   "id": "7672f0e3-3c5b-4722-b8e8-2098bdb29f86",
   "metadata": {},
   "source": [
    "### Below are a few examples of evaluating arithmetic expressions in Python"
   ]
  },
  {
   "cell_type": "markdown",
   "id": "8a9db16a-e8e1-48e7-9327-5764dba16aaf",
   "metadata": {
    "tags": []
   },
   "source": [
    "This a simple arithmetic expression to multiply then add integers"
   ]
  },
  {
   "cell_type": "code",
   "execution_count": 56,
   "id": "1563b221-1099-40dd-8eb3-0a8d01975e32",
   "metadata": {
    "tags": []
   },
   "outputs": [
    {
     "data": {
      "text/plain": [
       "17"
      ]
     },
     "execution_count": 56,
     "metadata": {},
     "output_type": "execute_result"
    }
   ],
   "source": [
    "    # This a simple arithmetic expression to multiply then add integers (3*4)+5 "
   ]
  },
  {
   "cell_type": "markdown",
   "id": "36e022e7",
   "metadata": {},
   "source": [
    "This will convert 200 minutes to hours by diving by 60"
   ]
  },
  {
   "cell_type": "code",
   "execution_count": 1,
   "id": "1871f187",
   "metadata": {},
   "outputs": [
    {
     "data": {
      "text/plain": [
       "3.3333333333333335"
      ]
     },
     "execution_count": 1,
     "metadata": {},
     "output_type": "execute_result"
    }
   ],
   "source": [
    "200/60"
   ]
  },
  {
   "cell_type": "markdown",
   "id": "de5b4e29",
   "metadata": {},
   "source": [
    "## Author\n",
    "Humberto Guzman"
   ]
  },
  {
   "cell_type": "code",
   "execution_count": null,
   "id": "8f217509",
   "metadata": {},
   "outputs": [],
   "source": []
  }
 ],
 "metadata": {
  "kernelspec": {
   "display_name": "Python 3 (ipykernel)",
   "language": "python",
   "name": "python3"
  },
  "language_info": {
   "codemirror_mode": {
    "name": "ipython",
    "version": 3
   },
   "file_extension": ".py",
   "mimetype": "text/x-python",
   "name": "python",
   "nbconvert_exporter": "python",
   "pygments_lexer": "ipython3",
   "version": "3.11.7"
  }
 },
 "nbformat": 4,
 "nbformat_minor": 5
}
